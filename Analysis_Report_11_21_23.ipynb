{
 "cells": [
  {
   "cell_type": "markdown",
   "id": "c9b9d109",
   "metadata": {},
   "source": [
    "# Spotify Analysis Report\n",
    "By TJ Laryea\n",
    "November 21st, 2023\n",
    "\n",
    "For my analysis report, I decided to pick two albums that are considered hip-hop or pop albums. I chose Sunset Diner by Kid Quill and Glory Sound Prep by Jon Bellion. I found these albums at the height of the pandemic, and they became the soundtrack to my year. To this day, I have many songs from these albums in my playlist rotations as they are significant to my life. The songs are all catchy and upbeat and remind me of the good times of the pandemic, but they also have emotional aspects that bring me back to the grim times of the pandemic. They serve as a reminder of the two sides of life we have, so I figured I should do them for this project!"
   ]
  },
  {
   "cell_type": "markdown",
   "id": "58ad6615",
   "metadata": {},
   "source": [
    "## Setting up the Project\n",
    "Below are the code cells I need to access the Spotify API and actual carrry out the project"
   ]
  },
  {
   "cell_type": "code",
   "execution_count": 1,
   "id": "3541257e",
   "metadata": {},
   "outputs": [],
   "source": [
    "import pandas as pd\n",
    "import requests as rq\n",
    "import base64\n",
    "import json\n",
    "import urllib\n",
    "import numpy as np\n",
    "from matplotlib import pyplot as plt\n",
    "from scipy import stats\n",
    "#Importing all the different python modules I need to execute this project"
   ]
  },
  {
   "cell_type": "code",
   "execution_count": 2,
   "id": "3713d5ef",
   "metadata": {},
   "outputs": [],
   "source": [
    "Client_ID = pd.read_csv('Spotify_Keys.txt')['Client_ID'].iloc[0]"
   ]
  },
  {
   "cell_type": "code",
   "execution_count": 3,
   "id": "c2c6e5b7",
   "metadata": {},
   "outputs": [],
   "source": [
    "Client_Secret = pd.read_csv('Spotify_Keys.txt')['Client_Secret'].iloc[0]"
   ]
  },
  {
   "cell_type": "code",
   "execution_count": 4,
   "id": "151ebfdf",
   "metadata": {},
   "outputs": [],
   "source": [
    "#Client_ID"
   ]
  },
  {
   "cell_type": "code",
   "execution_count": 5,
   "id": "f5dbb82d",
   "metadata": {},
   "outputs": [],
   "source": [
    "clientCred = base64.b64encode(str(Client_ID + \":\"+ Client_Secret).encode(\"ascii\"))"
   ]
  },
  {
   "cell_type": "code",
   "execution_count": 6,
   "id": "b87df828",
   "metadata": {},
   "outputs": [],
   "source": [
    "headers = {\"Authorization\": \"Basic {}\".format (clientCred.decode(\"ascii\"))}"
   ]
  },
  {
   "cell_type": "code",
   "execution_count": 7,
   "id": "9b6cbcb7",
   "metadata": {},
   "outputs": [],
   "source": [
    "payload = {'grant_type' : 'client_credentials'}\n",
    "url = 'https://accounts.spotify.com/api/token'"
   ]
  },
  {
   "cell_type": "code",
   "execution_count": 8,
   "id": "0f134b33",
   "metadata": {},
   "outputs": [],
   "source": [
    "sessionKeyResponse = rq.post(url = url, data = payload, headers = headers)"
   ]
  },
  {
   "cell_type": "code",
   "execution_count": 9,
   "id": "7ac33265",
   "metadata": {},
   "outputs": [
    {
     "data": {
      "text/plain": [
       "200"
      ]
     },
     "execution_count": 9,
     "metadata": {},
     "output_type": "execute_result"
    }
   ],
   "source": [
    "sessionKeyResponse.status_code"
   ]
  },
  {
   "cell_type": "code",
   "execution_count": 10,
   "id": "12a4d63a",
   "metadata": {},
   "outputs": [],
   "source": [
    "accessKey = sessionKeyResponse.json()[\"access_token\"]"
   ]
  },
  {
   "cell_type": "code",
   "execution_count": 11,
   "id": "6aa4af4f",
   "metadata": {},
   "outputs": [],
   "source": [
    "sessionHeaders = {\"Authorization\": \"Bearer {}\".format(accessKey)}"
   ]
  },
  {
   "cell_type": "markdown",
   "id": "44846b7e",
   "metadata": {},
   "source": [
    "# Calling the Spotify API"
   ]
  },
  {
   "cell_type": "markdown",
   "id": "7d8e1f1a",
   "metadata": {},
   "source": [
    "<img src = \"https://i.scdn.co/image/ab67616d0000b2733429762fb9263d7469f24ef5\" style=\"width:300px;height:300px;\"> \n",
    "<h2 style = \"text-align:center\">Sunset Diner by Kid Quill</h2>"
   ]
  },
  {
   "cell_type": "code",
   "execution_count": 12,
   "id": "b5a38695",
   "metadata": {},
   "outputs": [],
   "source": [
    "sunset_id = \"30tpNsvnkcKtPgvQvRdIlj\"\n",
    "# The Album ID for Sunset Diner"
   ]
  },
  {
   "cell_type": "code",
   "execution_count": 13,
   "id": "88b9eb01",
   "metadata": {},
   "outputs": [
    {
     "name": "stdout",
     "output_type": "stream",
     "text": [
      "200\n",
      "31RQhRiOBNvQmevxxMHygN,4HdxTnnmhT1esLQXjiySoZ,3IRbFbA0YaZfRkpZfvbr67,22t4u4Zyx9kRM6ADyFpWiN,3QI0olkcV0QLzvPOPCRbq6,1kkoUFYEPJK5e6FdWs4mmt,5LYXMp7S22Esmq9XQ0s5mf,3ZgpaSKaPIorKIAJXC3CVp,0EDwLwJ3aIpwDohlzh9yOG,6d9vT5odpbcs4KS0DDgQjG,4gOW9dBdqcyhJk953Txx6x,0OR9pBQOkb4F5rurZAcMUU,36qabN42JiTfVqytNhCh0x\n"
     ]
    }
   ],
   "source": [
    "sunset_tracks_api = \"https://api.spotify.com/v1/albums/{}/tracks\".format(sunset_id) \n",
    "#Setting up the URL I will use to call the API to get the album's tracks\n",
    "sunset_tracks = rq.get(sunset_tracks_api, headers = sessionHeaders)\n",
    "#Actually calling the API and recieving back the album track list as a JSON file\n",
    "print(sunset_tracks.status_code)\n",
    "sunset_dict = json.loads(sunset_tracks.text)\n",
    "#Creating a dictionary that we can use to access the Track IDs using list comprehension\n",
    "sunset_track_ids = [x['id'] for x in sunset_dict['items']]\n",
    "#Pulling the track IDs from the JSON dictionary and placing them in a list.\n",
    "sunset_track_strings = ','.join(str(x) for x in sunset_track_ids)\n",
    "# Creating a list of comma separated IDs that we can send to the Spotify API that we can then get the audio features\n",
    "print(sunset_track_strings)\n",
    "sunset_features_endpoint = \"https://api.spotify.com/v1/audio-features?ids={}\".format(sunset_track_strings)"
   ]
  },
  {
   "cell_type": "code",
   "execution_count": 14,
   "id": "09b89ab2",
   "metadata": {},
   "outputs": [
    {
     "data": {
      "text/plain": [
       "200"
      ]
     },
     "execution_count": 14,
     "metadata": {},
     "output_type": "execute_result"
    }
   ],
   "source": [
    "sunset_features = rq.get(sunset_features_endpoint, headers = sessionHeaders)\n",
    "sunset_features.status_code\n",
    "# This code block is requesting the audio features from the API"
   ]
  },
  {
   "cell_type": "code",
   "execution_count": 15,
   "id": "3aea065d",
   "metadata": {},
   "outputs": [
    {
     "data": {
      "text/html": [
       "<div>\n",
       "<style scoped>\n",
       "    .dataframe tbody tr th:only-of-type {\n",
       "        vertical-align: middle;\n",
       "    }\n",
       "\n",
       "    .dataframe tbody tr th {\n",
       "        vertical-align: top;\n",
       "    }\n",
       "\n",
       "    .dataframe thead th {\n",
       "        text-align: right;\n",
       "    }\n",
       "</style>\n",
       "<table border=\"1\" class=\"dataframe\">\n",
       "  <thead>\n",
       "    <tr style=\"text-align: right;\">\n",
       "      <th></th>\n",
       "      <th>danceability</th>\n",
       "      <th>energy</th>\n",
       "      <th>key</th>\n",
       "      <th>loudness</th>\n",
       "      <th>mode</th>\n",
       "      <th>speechiness</th>\n",
       "      <th>acousticness</th>\n",
       "      <th>instrumentalness</th>\n",
       "      <th>liveness</th>\n",
       "      <th>valence</th>\n",
       "      <th>tempo</th>\n",
       "      <th>type</th>\n",
       "      <th>id</th>\n",
       "      <th>uri</th>\n",
       "      <th>track_href</th>\n",
       "      <th>analysis_url</th>\n",
       "      <th>duration_ms</th>\n",
       "      <th>time_signature</th>\n",
       "    </tr>\n",
       "  </thead>\n",
       "  <tbody>\n",
       "    <tr>\n",
       "      <th>0</th>\n",
       "      <td>0.590</td>\n",
       "      <td>0.651</td>\n",
       "      <td>6</td>\n",
       "      <td>-6.819</td>\n",
       "      <td>1</td>\n",
       "      <td>0.0407</td>\n",
       "      <td>0.6120</td>\n",
       "      <td>0.000143</td>\n",
       "      <td>0.103</td>\n",
       "      <td>0.357</td>\n",
       "      <td>125.921</td>\n",
       "      <td>audio_features</td>\n",
       "      <td>31RQhRiOBNvQmevxxMHygN</td>\n",
       "      <td>spotify:track:31RQhRiOBNvQmevxxMHygN</td>\n",
       "      <td>https://api.spotify.com/v1/tracks/31RQhRiOBNvQ...</td>\n",
       "      <td>https://api.spotify.com/v1/audio-analysis/31RQ...</td>\n",
       "      <td>162437</td>\n",
       "      <td>4</td>\n",
       "    </tr>\n",
       "    <tr>\n",
       "      <th>1</th>\n",
       "      <td>0.758</td>\n",
       "      <td>0.648</td>\n",
       "      <td>7</td>\n",
       "      <td>-8.394</td>\n",
       "      <td>1</td>\n",
       "      <td>0.2300</td>\n",
       "      <td>0.8530</td>\n",
       "      <td>0.000038</td>\n",
       "      <td>0.188</td>\n",
       "      <td>0.630</td>\n",
       "      <td>97.978</td>\n",
       "      <td>audio_features</td>\n",
       "      <td>4HdxTnnmhT1esLQXjiySoZ</td>\n",
       "      <td>spotify:track:4HdxTnnmhT1esLQXjiySoZ</td>\n",
       "      <td>https://api.spotify.com/v1/tracks/4HdxTnnmhT1e...</td>\n",
       "      <td>https://api.spotify.com/v1/audio-analysis/4Hdx...</td>\n",
       "      <td>163081</td>\n",
       "      <td>4</td>\n",
       "    </tr>\n",
       "    <tr>\n",
       "      <th>2</th>\n",
       "      <td>0.433</td>\n",
       "      <td>0.772</td>\n",
       "      <td>5</td>\n",
       "      <td>-5.262</td>\n",
       "      <td>1</td>\n",
       "      <td>0.0959</td>\n",
       "      <td>0.2100</td>\n",
       "      <td>0.388000</td>\n",
       "      <td>0.174</td>\n",
       "      <td>0.823</td>\n",
       "      <td>171.959</td>\n",
       "      <td>audio_features</td>\n",
       "      <td>3IRbFbA0YaZfRkpZfvbr67</td>\n",
       "      <td>spotify:track:3IRbFbA0YaZfRkpZfvbr67</td>\n",
       "      <td>https://api.spotify.com/v1/tracks/3IRbFbA0YaZf...</td>\n",
       "      <td>https://api.spotify.com/v1/audio-analysis/3IRb...</td>\n",
       "      <td>311873</td>\n",
       "      <td>4</td>\n",
       "    </tr>\n",
       "    <tr>\n",
       "      <th>3</th>\n",
       "      <td>0.529</td>\n",
       "      <td>0.803</td>\n",
       "      <td>11</td>\n",
       "      <td>-5.530</td>\n",
       "      <td>0</td>\n",
       "      <td>0.0957</td>\n",
       "      <td>0.3910</td>\n",
       "      <td>0.031700</td>\n",
       "      <td>0.460</td>\n",
       "      <td>0.324</td>\n",
       "      <td>104.940</td>\n",
       "      <td>audio_features</td>\n",
       "      <td>22t4u4Zyx9kRM6ADyFpWiN</td>\n",
       "      <td>spotify:track:22t4u4Zyx9kRM6ADyFpWiN</td>\n",
       "      <td>https://api.spotify.com/v1/tracks/22t4u4Zyx9kR...</td>\n",
       "      <td>https://api.spotify.com/v1/audio-analysis/22t4...</td>\n",
       "      <td>221321</td>\n",
       "      <td>4</td>\n",
       "    </tr>\n",
       "    <tr>\n",
       "      <th>4</th>\n",
       "      <td>0.314</td>\n",
       "      <td>0.689</td>\n",
       "      <td>1</td>\n",
       "      <td>-5.549</td>\n",
       "      <td>1</td>\n",
       "      <td>0.0589</td>\n",
       "      <td>0.0592</td>\n",
       "      <td>0.000127</td>\n",
       "      <td>0.126</td>\n",
       "      <td>0.479</td>\n",
       "      <td>78.982</td>\n",
       "      <td>audio_features</td>\n",
       "      <td>3QI0olkcV0QLzvPOPCRbq6</td>\n",
       "      <td>spotify:track:3QI0olkcV0QLzvPOPCRbq6</td>\n",
       "      <td>https://api.spotify.com/v1/tracks/3QI0olkcV0QL...</td>\n",
       "      <td>https://api.spotify.com/v1/audio-analysis/3QI0...</td>\n",
       "      <td>274182</td>\n",
       "      <td>4</td>\n",
       "    </tr>\n",
       "    <tr>\n",
       "      <th>5</th>\n",
       "      <td>0.457</td>\n",
       "      <td>0.747</td>\n",
       "      <td>6</td>\n",
       "      <td>-5.158</td>\n",
       "      <td>1</td>\n",
       "      <td>0.0346</td>\n",
       "      <td>0.3680</td>\n",
       "      <td>0.033000</td>\n",
       "      <td>0.103</td>\n",
       "      <td>0.221</td>\n",
       "      <td>169.097</td>\n",
       "      <td>audio_features</td>\n",
       "      <td>1kkoUFYEPJK5e6FdWs4mmt</td>\n",
       "      <td>spotify:track:1kkoUFYEPJK5e6FdWs4mmt</td>\n",
       "      <td>https://api.spotify.com/v1/tracks/1kkoUFYEPJK5...</td>\n",
       "      <td>https://api.spotify.com/v1/audio-analysis/1kko...</td>\n",
       "      <td>188222</td>\n",
       "      <td>4</td>\n",
       "    </tr>\n",
       "    <tr>\n",
       "      <th>6</th>\n",
       "      <td>0.461</td>\n",
       "      <td>0.477</td>\n",
       "      <td>6</td>\n",
       "      <td>-5.215</td>\n",
       "      <td>1</td>\n",
       "      <td>0.0428</td>\n",
       "      <td>0.9940</td>\n",
       "      <td>0.560000</td>\n",
       "      <td>0.131</td>\n",
       "      <td>0.156</td>\n",
       "      <td>93.280</td>\n",
       "      <td>audio_features</td>\n",
       "      <td>5LYXMp7S22Esmq9XQ0s5mf</td>\n",
       "      <td>spotify:track:5LYXMp7S22Esmq9XQ0s5mf</td>\n",
       "      <td>https://api.spotify.com/v1/tracks/5LYXMp7S22Es...</td>\n",
       "      <td>https://api.spotify.com/v1/audio-analysis/5LYX...</td>\n",
       "      <td>71414</td>\n",
       "      <td>4</td>\n",
       "    </tr>\n",
       "    <tr>\n",
       "      <th>7</th>\n",
       "      <td>0.557</td>\n",
       "      <td>0.638</td>\n",
       "      <td>8</td>\n",
       "      <td>-8.433</td>\n",
       "      <td>1</td>\n",
       "      <td>0.0519</td>\n",
       "      <td>0.3600</td>\n",
       "      <td>0.876000</td>\n",
       "      <td>0.104</td>\n",
       "      <td>0.382</td>\n",
       "      <td>165.905</td>\n",
       "      <td>audio_features</td>\n",
       "      <td>3ZgpaSKaPIorKIAJXC3CVp</td>\n",
       "      <td>spotify:track:3ZgpaSKaPIorKIAJXC3CVp</td>\n",
       "      <td>https://api.spotify.com/v1/tracks/3ZgpaSKaPIor...</td>\n",
       "      <td>https://api.spotify.com/v1/audio-analysis/3Zgp...</td>\n",
       "      <td>185136</td>\n",
       "      <td>4</td>\n",
       "    </tr>\n",
       "    <tr>\n",
       "      <th>8</th>\n",
       "      <td>0.589</td>\n",
       "      <td>0.695</td>\n",
       "      <td>7</td>\n",
       "      <td>-5.645</td>\n",
       "      <td>1</td>\n",
       "      <td>0.0334</td>\n",
       "      <td>0.4270</td>\n",
       "      <td>0.074600</td>\n",
       "      <td>0.695</td>\n",
       "      <td>0.582</td>\n",
       "      <td>133.990</td>\n",
       "      <td>audio_features</td>\n",
       "      <td>0EDwLwJ3aIpwDohlzh9yOG</td>\n",
       "      <td>spotify:track:0EDwLwJ3aIpwDohlzh9yOG</td>\n",
       "      <td>https://api.spotify.com/v1/tracks/0EDwLwJ3aIpw...</td>\n",
       "      <td>https://api.spotify.com/v1/audio-analysis/0EDw...</td>\n",
       "      <td>239506</td>\n",
       "      <td>4</td>\n",
       "    </tr>\n",
       "    <tr>\n",
       "      <th>9</th>\n",
       "      <td>0.382</td>\n",
       "      <td>0.404</td>\n",
       "      <td>3</td>\n",
       "      <td>-11.961</td>\n",
       "      <td>1</td>\n",
       "      <td>0.1030</td>\n",
       "      <td>0.8400</td>\n",
       "      <td>0.006760</td>\n",
       "      <td>0.271</td>\n",
       "      <td>0.644</td>\n",
       "      <td>79.970</td>\n",
       "      <td>audio_features</td>\n",
       "      <td>6d9vT5odpbcs4KS0DDgQjG</td>\n",
       "      <td>spotify:track:6d9vT5odpbcs4KS0DDgQjG</td>\n",
       "      <td>https://api.spotify.com/v1/tracks/6d9vT5odpbcs...</td>\n",
       "      <td>https://api.spotify.com/v1/audio-analysis/6d9v...</td>\n",
       "      <td>75878</td>\n",
       "      <td>1</td>\n",
       "    </tr>\n",
       "    <tr>\n",
       "      <th>10</th>\n",
       "      <td>0.409</td>\n",
       "      <td>0.368</td>\n",
       "      <td>10</td>\n",
       "      <td>-10.797</td>\n",
       "      <td>1</td>\n",
       "      <td>0.0378</td>\n",
       "      <td>0.9510</td>\n",
       "      <td>0.032800</td>\n",
       "      <td>0.166</td>\n",
       "      <td>0.446</td>\n",
       "      <td>172.613</td>\n",
       "      <td>audio_features</td>\n",
       "      <td>4gOW9dBdqcyhJk953Txx6x</td>\n",
       "      <td>spotify:track:4gOW9dBdqcyhJk953Txx6x</td>\n",
       "      <td>https://api.spotify.com/v1/tracks/4gOW9dBdqcyh...</td>\n",
       "      <td>https://api.spotify.com/v1/audio-analysis/4gOW...</td>\n",
       "      <td>189592</td>\n",
       "      <td>4</td>\n",
       "    </tr>\n",
       "    <tr>\n",
       "      <th>11</th>\n",
       "      <td>0.481</td>\n",
       "      <td>0.467</td>\n",
       "      <td>4</td>\n",
       "      <td>-8.267</td>\n",
       "      <td>1</td>\n",
       "      <td>0.0395</td>\n",
       "      <td>0.8900</td>\n",
       "      <td>0.068300</td>\n",
       "      <td>0.362</td>\n",
       "      <td>0.191</td>\n",
       "      <td>98.189</td>\n",
       "      <td>audio_features</td>\n",
       "      <td>0OR9pBQOkb4F5rurZAcMUU</td>\n",
       "      <td>spotify:track:0OR9pBQOkb4F5rurZAcMUU</td>\n",
       "      <td>https://api.spotify.com/v1/tracks/0OR9pBQOkb4F...</td>\n",
       "      <td>https://api.spotify.com/v1/audio-analysis/0OR9...</td>\n",
       "      <td>374295</td>\n",
       "      <td>4</td>\n",
       "    </tr>\n",
       "    <tr>\n",
       "      <th>12</th>\n",
       "      <td>0.399</td>\n",
       "      <td>0.506</td>\n",
       "      <td>10</td>\n",
       "      <td>-6.403</td>\n",
       "      <td>1</td>\n",
       "      <td>0.0353</td>\n",
       "      <td>0.6490</td>\n",
       "      <td>0.198000</td>\n",
       "      <td>0.533</td>\n",
       "      <td>0.234</td>\n",
       "      <td>153.933</td>\n",
       "      <td>audio_features</td>\n",
       "      <td>36qabN42JiTfVqytNhCh0x</td>\n",
       "      <td>spotify:track:36qabN42JiTfVqytNhCh0x</td>\n",
       "      <td>https://api.spotify.com/v1/tracks/36qabN42JiTf...</td>\n",
       "      <td>https://api.spotify.com/v1/audio-analysis/36qa...</td>\n",
       "      <td>316095</td>\n",
       "      <td>4</td>\n",
       "    </tr>\n",
       "  </tbody>\n",
       "</table>\n",
       "</div>"
      ],
      "text/plain": [
       "    danceability  energy  key  loudness  mode  speechiness  acousticness  \\\n",
       "0          0.590   0.651    6    -6.819     1       0.0407        0.6120   \n",
       "1          0.758   0.648    7    -8.394     1       0.2300        0.8530   \n",
       "2          0.433   0.772    5    -5.262     1       0.0959        0.2100   \n",
       "3          0.529   0.803   11    -5.530     0       0.0957        0.3910   \n",
       "4          0.314   0.689    1    -5.549     1       0.0589        0.0592   \n",
       "5          0.457   0.747    6    -5.158     1       0.0346        0.3680   \n",
       "6          0.461   0.477    6    -5.215     1       0.0428        0.9940   \n",
       "7          0.557   0.638    8    -8.433     1       0.0519        0.3600   \n",
       "8          0.589   0.695    7    -5.645     1       0.0334        0.4270   \n",
       "9          0.382   0.404    3   -11.961     1       0.1030        0.8400   \n",
       "10         0.409   0.368   10   -10.797     1       0.0378        0.9510   \n",
       "11         0.481   0.467    4    -8.267     1       0.0395        0.8900   \n",
       "12         0.399   0.506   10    -6.403     1       0.0353        0.6490   \n",
       "\n",
       "    instrumentalness  liveness  valence    tempo            type  \\\n",
       "0           0.000143     0.103    0.357  125.921  audio_features   \n",
       "1           0.000038     0.188    0.630   97.978  audio_features   \n",
       "2           0.388000     0.174    0.823  171.959  audio_features   \n",
       "3           0.031700     0.460    0.324  104.940  audio_features   \n",
       "4           0.000127     0.126    0.479   78.982  audio_features   \n",
       "5           0.033000     0.103    0.221  169.097  audio_features   \n",
       "6           0.560000     0.131    0.156   93.280  audio_features   \n",
       "7           0.876000     0.104    0.382  165.905  audio_features   \n",
       "8           0.074600     0.695    0.582  133.990  audio_features   \n",
       "9           0.006760     0.271    0.644   79.970  audio_features   \n",
       "10          0.032800     0.166    0.446  172.613  audio_features   \n",
       "11          0.068300     0.362    0.191   98.189  audio_features   \n",
       "12          0.198000     0.533    0.234  153.933  audio_features   \n",
       "\n",
       "                        id                                   uri  \\\n",
       "0   31RQhRiOBNvQmevxxMHygN  spotify:track:31RQhRiOBNvQmevxxMHygN   \n",
       "1   4HdxTnnmhT1esLQXjiySoZ  spotify:track:4HdxTnnmhT1esLQXjiySoZ   \n",
       "2   3IRbFbA0YaZfRkpZfvbr67  spotify:track:3IRbFbA0YaZfRkpZfvbr67   \n",
       "3   22t4u4Zyx9kRM6ADyFpWiN  spotify:track:22t4u4Zyx9kRM6ADyFpWiN   \n",
       "4   3QI0olkcV0QLzvPOPCRbq6  spotify:track:3QI0olkcV0QLzvPOPCRbq6   \n",
       "5   1kkoUFYEPJK5e6FdWs4mmt  spotify:track:1kkoUFYEPJK5e6FdWs4mmt   \n",
       "6   5LYXMp7S22Esmq9XQ0s5mf  spotify:track:5LYXMp7S22Esmq9XQ0s5mf   \n",
       "7   3ZgpaSKaPIorKIAJXC3CVp  spotify:track:3ZgpaSKaPIorKIAJXC3CVp   \n",
       "8   0EDwLwJ3aIpwDohlzh9yOG  spotify:track:0EDwLwJ3aIpwDohlzh9yOG   \n",
       "9   6d9vT5odpbcs4KS0DDgQjG  spotify:track:6d9vT5odpbcs4KS0DDgQjG   \n",
       "10  4gOW9dBdqcyhJk953Txx6x  spotify:track:4gOW9dBdqcyhJk953Txx6x   \n",
       "11  0OR9pBQOkb4F5rurZAcMUU  spotify:track:0OR9pBQOkb4F5rurZAcMUU   \n",
       "12  36qabN42JiTfVqytNhCh0x  spotify:track:36qabN42JiTfVqytNhCh0x   \n",
       "\n",
       "                                           track_href  \\\n",
       "0   https://api.spotify.com/v1/tracks/31RQhRiOBNvQ...   \n",
       "1   https://api.spotify.com/v1/tracks/4HdxTnnmhT1e...   \n",
       "2   https://api.spotify.com/v1/tracks/3IRbFbA0YaZf...   \n",
       "3   https://api.spotify.com/v1/tracks/22t4u4Zyx9kR...   \n",
       "4   https://api.spotify.com/v1/tracks/3QI0olkcV0QL...   \n",
       "5   https://api.spotify.com/v1/tracks/1kkoUFYEPJK5...   \n",
       "6   https://api.spotify.com/v1/tracks/5LYXMp7S22Es...   \n",
       "7   https://api.spotify.com/v1/tracks/3ZgpaSKaPIor...   \n",
       "8   https://api.spotify.com/v1/tracks/0EDwLwJ3aIpw...   \n",
       "9   https://api.spotify.com/v1/tracks/6d9vT5odpbcs...   \n",
       "10  https://api.spotify.com/v1/tracks/4gOW9dBdqcyh...   \n",
       "11  https://api.spotify.com/v1/tracks/0OR9pBQOkb4F...   \n",
       "12  https://api.spotify.com/v1/tracks/36qabN42JiTf...   \n",
       "\n",
       "                                         analysis_url  duration_ms  \\\n",
       "0   https://api.spotify.com/v1/audio-analysis/31RQ...       162437   \n",
       "1   https://api.spotify.com/v1/audio-analysis/4Hdx...       163081   \n",
       "2   https://api.spotify.com/v1/audio-analysis/3IRb...       311873   \n",
       "3   https://api.spotify.com/v1/audio-analysis/22t4...       221321   \n",
       "4   https://api.spotify.com/v1/audio-analysis/3QI0...       274182   \n",
       "5   https://api.spotify.com/v1/audio-analysis/1kko...       188222   \n",
       "6   https://api.spotify.com/v1/audio-analysis/5LYX...        71414   \n",
       "7   https://api.spotify.com/v1/audio-analysis/3Zgp...       185136   \n",
       "8   https://api.spotify.com/v1/audio-analysis/0EDw...       239506   \n",
       "9   https://api.spotify.com/v1/audio-analysis/6d9v...        75878   \n",
       "10  https://api.spotify.com/v1/audio-analysis/4gOW...       189592   \n",
       "11  https://api.spotify.com/v1/audio-analysis/0OR9...       374295   \n",
       "12  https://api.spotify.com/v1/audio-analysis/36qa...       316095   \n",
       "\n",
       "    time_signature  \n",
       "0                4  \n",
       "1                4  \n",
       "2                4  \n",
       "3                4  \n",
       "4                4  \n",
       "5                4  \n",
       "6                4  \n",
       "7                4  \n",
       "8                4  \n",
       "9                1  \n",
       "10               4  \n",
       "11               4  \n",
       "12               4  "
      ]
     },
     "execution_count": 15,
     "metadata": {},
     "output_type": "execute_result"
    }
   ],
   "source": [
    "sunset_dict = json.loads(sunset_features.text)\n",
    "sunset_df = pd.DataFrame(sunset_dict['audio_features'])\n",
    "sunset_df\n",
    "# This code block is loading the JSON file from the Spotify API with audio features and then placing it into a Pandas\n",
    "# That I can call to access said features"
   ]
  },
  {
   "cell_type": "markdown",
   "id": "61d157c4",
   "metadata": {},
   "source": [
    "<img src = \"https://upload.wikimedia.org/wikipedia/en/a/ae/Jon_Bellion_-_Glory_Sound_Prep.png\">\n",
    "<h2 style = \"text-align:center\">Glory Sound Prep by Jon Bellion</h2>\n"
   ]
  },
  {
   "cell_type": "code",
   "execution_count": 16,
   "id": "2102884d",
   "metadata": {},
   "outputs": [],
   "source": [
    "gsp_id = \"59YYObx9wFEFG5zVdlfwvf\""
   ]
  },
  {
   "cell_type": "code",
   "execution_count": 17,
   "id": "9bcbe7ef",
   "metadata": {},
   "outputs": [
    {
     "name": "stdout",
     "output_type": "stream",
     "text": [
      "200\n",
      "1EAZ0APxPiVuzDb7R5TfVI,1eftOUoeMO1JkSQQmS6jXF,2X1Tygc4uVunRgzNkFb1mG,7cK7hDrE7vAesPf8xd5zmb,359Q4gGdrQIFhRzs7J8gZu,4FUDWkguOUVpLRAVn5C20z,7HKSWfpxHhllSmoLk9AQz8,7pMS0byKI7V1Mpl0SlWEDq,6BbANlpji0u8ZlqyPVMQiM,1SefvAcZtoZo22njnX2qy7\n"
     ]
    }
   ],
   "source": [
    "gsp_tracks_api = \"https://api.spotify.com/v1/albums/{}/tracks\".format(gsp_id)\n",
    "gsp_tracks = rq.get(gsp_tracks_api, headers = sessionHeaders)\n",
    "print(gsp_tracks.status_code)\n",
    "gsp_dict = json.loads(gsp_tracks.text)\n",
    "gsp_track_ids = [x['id'] for x in gsp_dict['items']]\n",
    "gsp_track_strings = ','.join(str(x) for x in gsp_track_ids)\n",
    "print(gsp_track_strings)\n",
    "gsp_features_endpoint = \"https://api.spotify.com/v1/audio-features?ids={}\".format(gsp_track_strings)"
   ]
  },
  {
   "cell_type": "code",
   "execution_count": 18,
   "id": "f9821666",
   "metadata": {},
   "outputs": [
    {
     "data": {
      "text/plain": [
       "200"
      ]
     },
     "execution_count": 18,
     "metadata": {},
     "output_type": "execute_result"
    }
   ],
   "source": [
    "gsp_features = rq.get(gsp_features_endpoint, headers = sessionHeaders)\n",
    "gsp_features.status_code"
   ]
  },
  {
   "cell_type": "code",
   "execution_count": 19,
   "id": "0f572f12",
   "metadata": {
    "scrolled": false
   },
   "outputs": [
    {
     "data": {
      "text/html": [
       "<div>\n",
       "<style scoped>\n",
       "    .dataframe tbody tr th:only-of-type {\n",
       "        vertical-align: middle;\n",
       "    }\n",
       "\n",
       "    .dataframe tbody tr th {\n",
       "        vertical-align: top;\n",
       "    }\n",
       "\n",
       "    .dataframe thead th {\n",
       "        text-align: right;\n",
       "    }\n",
       "</style>\n",
       "<table border=\"1\" class=\"dataframe\">\n",
       "  <thead>\n",
       "    <tr style=\"text-align: right;\">\n",
       "      <th></th>\n",
       "      <th>danceability</th>\n",
       "      <th>energy</th>\n",
       "      <th>key</th>\n",
       "      <th>loudness</th>\n",
       "      <th>mode</th>\n",
       "      <th>speechiness</th>\n",
       "      <th>acousticness</th>\n",
       "      <th>instrumentalness</th>\n",
       "      <th>liveness</th>\n",
       "      <th>valence</th>\n",
       "      <th>tempo</th>\n",
       "      <th>type</th>\n",
       "      <th>id</th>\n",
       "      <th>uri</th>\n",
       "      <th>track_href</th>\n",
       "      <th>analysis_url</th>\n",
       "      <th>duration_ms</th>\n",
       "      <th>time_signature</th>\n",
       "    </tr>\n",
       "  </thead>\n",
       "  <tbody>\n",
       "    <tr>\n",
       "      <th>0</th>\n",
       "      <td>0.496</td>\n",
       "      <td>0.487</td>\n",
       "      <td>6</td>\n",
       "      <td>-7.003</td>\n",
       "      <td>1</td>\n",
       "      <td>0.0301</td>\n",
       "      <td>0.0222</td>\n",
       "      <td>0.000018</td>\n",
       "      <td>0.638</td>\n",
       "      <td>0.321</td>\n",
       "      <td>138.187</td>\n",
       "      <td>audio_features</td>\n",
       "      <td>1EAZ0APxPiVuzDb7R5TfVI</td>\n",
       "      <td>spotify:track:1EAZ0APxPiVuzDb7R5TfVI</td>\n",
       "      <td>https://api.spotify.com/v1/tracks/1EAZ0APxPiVu...</td>\n",
       "      <td>https://api.spotify.com/v1/audio-analysis/1EAZ...</td>\n",
       "      <td>206210</td>\n",
       "      <td>4</td>\n",
       "    </tr>\n",
       "    <tr>\n",
       "      <th>1</th>\n",
       "      <td>0.518</td>\n",
       "      <td>0.587</td>\n",
       "      <td>0</td>\n",
       "      <td>-7.937</td>\n",
       "      <td>1</td>\n",
       "      <td>0.1200</td>\n",
       "      <td>0.0168</td>\n",
       "      <td>0.000001</td>\n",
       "      <td>0.206</td>\n",
       "      <td>0.631</td>\n",
       "      <td>98.367</td>\n",
       "      <td>audio_features</td>\n",
       "      <td>1eftOUoeMO1JkSQQmS6jXF</td>\n",
       "      <td>spotify:track:1eftOUoeMO1JkSQQmS6jXF</td>\n",
       "      <td>https://api.spotify.com/v1/tracks/1eftOUoeMO1J...</td>\n",
       "      <td>https://api.spotify.com/v1/audio-analysis/1eft...</td>\n",
       "      <td>268466</td>\n",
       "      <td>4</td>\n",
       "    </tr>\n",
       "    <tr>\n",
       "      <th>2</th>\n",
       "      <td>0.647</td>\n",
       "      <td>0.749</td>\n",
       "      <td>4</td>\n",
       "      <td>-5.056</td>\n",
       "      <td>0</td>\n",
       "      <td>0.4200</td>\n",
       "      <td>0.2900</td>\n",
       "      <td>0.000001</td>\n",
       "      <td>0.126</td>\n",
       "      <td>0.585</td>\n",
       "      <td>91.902</td>\n",
       "      <td>audio_features</td>\n",
       "      <td>2X1Tygc4uVunRgzNkFb1mG</td>\n",
       "      <td>spotify:track:2X1Tygc4uVunRgzNkFb1mG</td>\n",
       "      <td>https://api.spotify.com/v1/tracks/2X1Tygc4uVun...</td>\n",
       "      <td>https://api.spotify.com/v1/audio-analysis/2X1T...</td>\n",
       "      <td>340522</td>\n",
       "      <td>4</td>\n",
       "    </tr>\n",
       "    <tr>\n",
       "      <th>3</th>\n",
       "      <td>0.362</td>\n",
       "      <td>0.377</td>\n",
       "      <td>2</td>\n",
       "      <td>-9.713</td>\n",
       "      <td>1</td>\n",
       "      <td>0.0339</td>\n",
       "      <td>0.7320</td>\n",
       "      <td>0.000631</td>\n",
       "      <td>0.127</td>\n",
       "      <td>0.294</td>\n",
       "      <td>137.891</td>\n",
       "      <td>audio_features</td>\n",
       "      <td>7cK7hDrE7vAesPf8xd5zmb</td>\n",
       "      <td>spotify:track:7cK7hDrE7vAesPf8xd5zmb</td>\n",
       "      <td>https://api.spotify.com/v1/tracks/7cK7hDrE7vAe...</td>\n",
       "      <td>https://api.spotify.com/v1/audio-analysis/7cK7...</td>\n",
       "      <td>178176</td>\n",
       "      <td>4</td>\n",
       "    </tr>\n",
       "    <tr>\n",
       "      <th>4</th>\n",
       "      <td>0.767</td>\n",
       "      <td>0.792</td>\n",
       "      <td>5</td>\n",
       "      <td>-5.053</td>\n",
       "      <td>0</td>\n",
       "      <td>0.2250</td>\n",
       "      <td>0.1060</td>\n",
       "      <td>0.000010</td>\n",
       "      <td>0.145</td>\n",
       "      <td>0.699</td>\n",
       "      <td>119.168</td>\n",
       "      <td>audio_features</td>\n",
       "      <td>359Q4gGdrQIFhRzs7J8gZu</td>\n",
       "      <td>spotify:track:359Q4gGdrQIFhRzs7J8gZu</td>\n",
       "      <td>https://api.spotify.com/v1/tracks/359Q4gGdrQIF...</td>\n",
       "      <td>https://api.spotify.com/v1/audio-analysis/359Q...</td>\n",
       "      <td>189492</td>\n",
       "      <td>4</td>\n",
       "    </tr>\n",
       "    <tr>\n",
       "      <th>5</th>\n",
       "      <td>0.384</td>\n",
       "      <td>0.465</td>\n",
       "      <td>0</td>\n",
       "      <td>-8.554</td>\n",
       "      <td>1</td>\n",
       "      <td>0.0341</td>\n",
       "      <td>0.2900</td>\n",
       "      <td>0.000022</td>\n",
       "      <td>0.359</td>\n",
       "      <td>0.636</td>\n",
       "      <td>131.604</td>\n",
       "      <td>audio_features</td>\n",
       "      <td>4FUDWkguOUVpLRAVn5C20z</td>\n",
       "      <td>spotify:track:4FUDWkguOUVpLRAVn5C20z</td>\n",
       "      <td>https://api.spotify.com/v1/tracks/4FUDWkguOUVp...</td>\n",
       "      <td>https://api.spotify.com/v1/audio-analysis/4FUD...</td>\n",
       "      <td>183344</td>\n",
       "      <td>4</td>\n",
       "    </tr>\n",
       "    <tr>\n",
       "      <th>6</th>\n",
       "      <td>0.701</td>\n",
       "      <td>0.828</td>\n",
       "      <td>7</td>\n",
       "      <td>-5.606</td>\n",
       "      <td>1</td>\n",
       "      <td>0.2970</td>\n",
       "      <td>0.2440</td>\n",
       "      <td>0.000000</td>\n",
       "      <td>0.417</td>\n",
       "      <td>0.651</td>\n",
       "      <td>89.988</td>\n",
       "      <td>audio_features</td>\n",
       "      <td>7HKSWfpxHhllSmoLk9AQz8</td>\n",
       "      <td>spotify:track:7HKSWfpxHhllSmoLk9AQz8</td>\n",
       "      <td>https://api.spotify.com/v1/tracks/7HKSWfpxHhll...</td>\n",
       "      <td>https://api.spotify.com/v1/audio-analysis/7HKS...</td>\n",
       "      <td>313897</td>\n",
       "      <td>4</td>\n",
       "    </tr>\n",
       "    <tr>\n",
       "      <th>7</th>\n",
       "      <td>0.347</td>\n",
       "      <td>0.672</td>\n",
       "      <td>7</td>\n",
       "      <td>-6.661</td>\n",
       "      <td>1</td>\n",
       "      <td>0.5200</td>\n",
       "      <td>0.0118</td>\n",
       "      <td>0.000154</td>\n",
       "      <td>0.245</td>\n",
       "      <td>0.565</td>\n",
       "      <td>195.225</td>\n",
       "      <td>audio_features</td>\n",
       "      <td>7pMS0byKI7V1Mpl0SlWEDq</td>\n",
       "      <td>spotify:track:7pMS0byKI7V1Mpl0SlWEDq</td>\n",
       "      <td>https://api.spotify.com/v1/tracks/7pMS0byKI7V1...</td>\n",
       "      <td>https://api.spotify.com/v1/audio-analysis/7pMS...</td>\n",
       "      <td>208697</td>\n",
       "      <td>4</td>\n",
       "    </tr>\n",
       "    <tr>\n",
       "      <th>8</th>\n",
       "      <td>0.582</td>\n",
       "      <td>0.550</td>\n",
       "      <td>7</td>\n",
       "      <td>-8.474</td>\n",
       "      <td>1</td>\n",
       "      <td>0.0448</td>\n",
       "      <td>0.0122</td>\n",
       "      <td>0.000028</td>\n",
       "      <td>0.128</td>\n",
       "      <td>0.696</td>\n",
       "      <td>94.087</td>\n",
       "      <td>audio_features</td>\n",
       "      <td>6BbANlpji0u8ZlqyPVMQiM</td>\n",
       "      <td>spotify:track:6BbANlpji0u8ZlqyPVMQiM</td>\n",
       "      <td>https://api.spotify.com/v1/tracks/6BbANlpji0u8...</td>\n",
       "      <td>https://api.spotify.com/v1/audio-analysis/6BbA...</td>\n",
       "      <td>227207</td>\n",
       "      <td>4</td>\n",
       "    </tr>\n",
       "    <tr>\n",
       "      <th>9</th>\n",
       "      <td>0.271</td>\n",
       "      <td>0.474</td>\n",
       "      <td>0</td>\n",
       "      <td>-9.718</td>\n",
       "      <td>1</td>\n",
       "      <td>0.0498</td>\n",
       "      <td>0.3170</td>\n",
       "      <td>0.000489</td>\n",
       "      <td>0.097</td>\n",
       "      <td>0.362</td>\n",
       "      <td>177.907</td>\n",
       "      <td>audio_features</td>\n",
       "      <td>1SefvAcZtoZo22njnX2qy7</td>\n",
       "      <td>spotify:track:1SefvAcZtoZo22njnX2qy7</td>\n",
       "      <td>https://api.spotify.com/v1/tracks/1SefvAcZtoZo...</td>\n",
       "      <td>https://api.spotify.com/v1/audio-analysis/1Sef...</td>\n",
       "      <td>481590</td>\n",
       "      <td>4</td>\n",
       "    </tr>\n",
       "  </tbody>\n",
       "</table>\n",
       "</div>"
      ],
      "text/plain": [
       "   danceability  energy  key  loudness  mode  speechiness  acousticness  \\\n",
       "0         0.496   0.487    6    -7.003     1       0.0301        0.0222   \n",
       "1         0.518   0.587    0    -7.937     1       0.1200        0.0168   \n",
       "2         0.647   0.749    4    -5.056     0       0.4200        0.2900   \n",
       "3         0.362   0.377    2    -9.713     1       0.0339        0.7320   \n",
       "4         0.767   0.792    5    -5.053     0       0.2250        0.1060   \n",
       "5         0.384   0.465    0    -8.554     1       0.0341        0.2900   \n",
       "6         0.701   0.828    7    -5.606     1       0.2970        0.2440   \n",
       "7         0.347   0.672    7    -6.661     1       0.5200        0.0118   \n",
       "8         0.582   0.550    7    -8.474     1       0.0448        0.0122   \n",
       "9         0.271   0.474    0    -9.718     1       0.0498        0.3170   \n",
       "\n",
       "   instrumentalness  liveness  valence    tempo            type  \\\n",
       "0          0.000018     0.638    0.321  138.187  audio_features   \n",
       "1          0.000001     0.206    0.631   98.367  audio_features   \n",
       "2          0.000001     0.126    0.585   91.902  audio_features   \n",
       "3          0.000631     0.127    0.294  137.891  audio_features   \n",
       "4          0.000010     0.145    0.699  119.168  audio_features   \n",
       "5          0.000022     0.359    0.636  131.604  audio_features   \n",
       "6          0.000000     0.417    0.651   89.988  audio_features   \n",
       "7          0.000154     0.245    0.565  195.225  audio_features   \n",
       "8          0.000028     0.128    0.696   94.087  audio_features   \n",
       "9          0.000489     0.097    0.362  177.907  audio_features   \n",
       "\n",
       "                       id                                   uri  \\\n",
       "0  1EAZ0APxPiVuzDb7R5TfVI  spotify:track:1EAZ0APxPiVuzDb7R5TfVI   \n",
       "1  1eftOUoeMO1JkSQQmS6jXF  spotify:track:1eftOUoeMO1JkSQQmS6jXF   \n",
       "2  2X1Tygc4uVunRgzNkFb1mG  spotify:track:2X1Tygc4uVunRgzNkFb1mG   \n",
       "3  7cK7hDrE7vAesPf8xd5zmb  spotify:track:7cK7hDrE7vAesPf8xd5zmb   \n",
       "4  359Q4gGdrQIFhRzs7J8gZu  spotify:track:359Q4gGdrQIFhRzs7J8gZu   \n",
       "5  4FUDWkguOUVpLRAVn5C20z  spotify:track:4FUDWkguOUVpLRAVn5C20z   \n",
       "6  7HKSWfpxHhllSmoLk9AQz8  spotify:track:7HKSWfpxHhllSmoLk9AQz8   \n",
       "7  7pMS0byKI7V1Mpl0SlWEDq  spotify:track:7pMS0byKI7V1Mpl0SlWEDq   \n",
       "8  6BbANlpji0u8ZlqyPVMQiM  spotify:track:6BbANlpji0u8ZlqyPVMQiM   \n",
       "9  1SefvAcZtoZo22njnX2qy7  spotify:track:1SefvAcZtoZo22njnX2qy7   \n",
       "\n",
       "                                          track_href  \\\n",
       "0  https://api.spotify.com/v1/tracks/1EAZ0APxPiVu...   \n",
       "1  https://api.spotify.com/v1/tracks/1eftOUoeMO1J...   \n",
       "2  https://api.spotify.com/v1/tracks/2X1Tygc4uVun...   \n",
       "3  https://api.spotify.com/v1/tracks/7cK7hDrE7vAe...   \n",
       "4  https://api.spotify.com/v1/tracks/359Q4gGdrQIF...   \n",
       "5  https://api.spotify.com/v1/tracks/4FUDWkguOUVp...   \n",
       "6  https://api.spotify.com/v1/tracks/7HKSWfpxHhll...   \n",
       "7  https://api.spotify.com/v1/tracks/7pMS0byKI7V1...   \n",
       "8  https://api.spotify.com/v1/tracks/6BbANlpji0u8...   \n",
       "9  https://api.spotify.com/v1/tracks/1SefvAcZtoZo...   \n",
       "\n",
       "                                        analysis_url  duration_ms  \\\n",
       "0  https://api.spotify.com/v1/audio-analysis/1EAZ...       206210   \n",
       "1  https://api.spotify.com/v1/audio-analysis/1eft...       268466   \n",
       "2  https://api.spotify.com/v1/audio-analysis/2X1T...       340522   \n",
       "3  https://api.spotify.com/v1/audio-analysis/7cK7...       178176   \n",
       "4  https://api.spotify.com/v1/audio-analysis/359Q...       189492   \n",
       "5  https://api.spotify.com/v1/audio-analysis/4FUD...       183344   \n",
       "6  https://api.spotify.com/v1/audio-analysis/7HKS...       313897   \n",
       "7  https://api.spotify.com/v1/audio-analysis/7pMS...       208697   \n",
       "8  https://api.spotify.com/v1/audio-analysis/6BbA...       227207   \n",
       "9  https://api.spotify.com/v1/audio-analysis/1Sef...       481590   \n",
       "\n",
       "   time_signature  \n",
       "0               4  \n",
       "1               4  \n",
       "2               4  \n",
       "3               4  \n",
       "4               4  \n",
       "5               4  \n",
       "6               4  \n",
       "7               4  \n",
       "8               4  \n",
       "9               4  "
      ]
     },
     "execution_count": 19,
     "metadata": {},
     "output_type": "execute_result"
    }
   ],
   "source": [
    "gsp_dict = json.loads(gsp_features.text)\n",
    "gsp_df = pd.DataFrame(gsp_dict['audio_features'])\n",
    "gsp_df"
   ]
  },
  {
   "cell_type": "markdown",
   "id": "3525270b",
   "metadata": {},
   "source": [
    "The code above is going through the exact same process for getting the Sunset Diner audio features"
   ]
  },
  {
   "cell_type": "markdown",
   "id": "6edee919",
   "metadata": {},
   "source": [
    "## Chosen Audio Features\n",
    "\n",
    "For this analysis I decided to go with danceability and valence as both albums have happy upbeat songs but they aren't necessarily danceable and the lyrics are more of the focus, so I would love to see the correlation between the two during this analysis."
   ]
  },
  {
   "cell_type": "code",
   "execution_count": 20,
   "id": "970f5347",
   "metadata": {},
   "outputs": [
    {
     "data": {
      "image/png": "[encoded data removed]",
      "text/plain": [
       "<Figure size 640x480 with 2 Axes>"
      ]
     },
     "metadata": {},
     "output_type": "display_data"
    }
   ],
   "source": [
    "fig1, ax1 = plt.subplots(1,2)\n",
    "# Creating a figure of charts with 1 row and 2 columns\n",
    "ax1[0].hist(sunset_df['danceability'], color = \"orange\", label = \"Sunset Diner\")\n",
    "ax1[0].hist(gsp_df['danceability'], label = \"Glory Sound Prep\", alpha = .6)\n",
    "# Histograms Plotting the Danceability of the two albums on one histogram\n",
    "\n",
    "ax1[1].hist(sunset_df['valence'],color = \"orange\", label = \"Sunset Diner\")\n",
    "ax1[1].hist(gsp_df['valence'], label = \"Glory Sound Prep\", alpha = .7)\n",
    "# Histograms Plotting the Valence of the two albums on one histogram\n",
    "\n",
    "ax1[0].set_title(\"Danceability\")\n",
    "ax1[1].set_title(\"Valence\")\n",
    "\n",
    "\n",
    "ax1[0].legend()\n",
    "ax1[1].legend()\n",
    "\n",
    "\n",
    "plt.show()"
   ]
  },
  {
   "cell_type": "markdown",
   "id": "52605caf",
   "metadata": {},
   "source": [
    "These histograms tell us a lot about these two audio features. When it comes to danceability, they do not have normal distributions; they both fall very low on the danceability scale, with a few outliers that score high on the danceability scale. When it comes to valence, they both again have very uneven distributions, with Sunset Diner having very low-valence songs and Glory Sound Prep having pretty high valences hovering around 0.6."
   ]
  },
  {
   "cell_type": "code",
   "execution_count": 21,
   "id": "de06c3ac",
   "metadata": {},
   "outputs": [
    {
     "data": {
      "image/png": "[encoded data removed]",
      "text/plain": [
       "<Figure size 640x480 with 1 Axes>"
      ]
     },
     "metadata": {},
     "output_type": "display_data"
    }
   ],
   "source": [
    "fig2, ax2 = plt.subplots()\n",
    "ax2.scatter(x = sunset_df['danceability'], y = sunset_df['valence'], color = \"orange\")\n",
    "\n",
    "\n",
    "ax2.set_title(\"Relationship between Valence and Danceability of Kid Quill's Sunset Diner\")\n",
    "ax2.set_xlabel('Danceability')\n",
    "ax2.set_ylabel('Valence')\n",
    "\n",
    "plt.show()"
   ]
  },
  {
   "cell_type": "markdown",
   "id": "754496bb",
   "metadata": {},
   "source": [
    "For Sunset Diner there is no clear correlation between danceability and valence the scatter plot shows data points strewn all over without any clear rhyme or reason"
   ]
  },
  {
   "cell_type": "code",
   "execution_count": 22,
   "id": "b8bbc7f3",
   "metadata": {},
   "outputs": [
    {
     "data": {
      "image/png": "[encoded data removed]",
      "text/plain": [
       "<Figure size 640x480 with 1 Axes>"
      ]
     },
     "metadata": {},
     "output_type": "display_data"
    }
   ],
   "source": [
    "fig3, ax3 = plt.subplots()\n",
    "ax3.scatter(x = gsp_df['danceability'], y = gsp_df['valence'])\n",
    "\n",
    "\n",
    "ax3.set_title(\"Relationship between Valence and Danceability of Jon Bellion's Glory Sound Prep\")\n",
    "ax3.set_xlabel('Danceability')\n",
    "ax3.set_ylabel('Valence')\n",
    "\n",
    "plt.show()"
   ]
  },
  {
   "cell_type": "markdown",
   "id": "396ab589",
   "metadata": {},
   "source": [
    "For Glory Sound Prep this is a clear correlation betweem danceability and valence when one increases the other increases as as well with a few outliers that do not meet the criteria but overall there is a correlation"
   ]
  },
  {
   "cell_type": "code",
   "execution_count": 23,
   "id": "a4f3da5c",
   "metadata": {},
   "outputs": [
    {
     "data": {
      "image/png": "[encoded data removed]",
      "text/plain": [
       "<Figure size 640x480 with 1 Axes>"
      ]
     },
     "metadata": {},
     "output_type": "display_data"
    }
   ],
   "source": [
    "fig4, ax4 = plt.subplots()\n",
    "ax4.scatter(x = gsp_df['danceability'], y = gsp_df['valence'], label = \"Glory Sound Prep\", marker = \"*\", s = 50.0)\n",
    "ax4.scatter(x = sunset_df['danceability'], y = sunset_df['valence'], label = \"Sunset Diner\", s = 50.0)\n",
    "\n",
    "ax4.set_title(\"Relationship Between Danceability & Valence \\n of Two Hip Hop/Pop Albums\")\n",
    "ax4.set_xlabel('Danceability')\n",
    "ax4.set_ylabel('Valence')\n",
    "ax4.legend()\n",
    "\n",
    "\n",
    "plt.show()"
   ]
  },
  {
   "cell_type": "code",
   "execution_count": 24,
   "id": "54182bab",
   "metadata": {
    "scrolled": true
   },
   "outputs": [
    {
     "data": {
      "image/png": "[encoded data removed]",
      "text/plain": [
       "<Figure size 640x480 with 1 Axes>"
      ]
     },
     "metadata": {},
     "output_type": "display_data"
    }
   ],
   "source": [
    "fig5, ax5 = plt.subplots()\n",
    "\n",
    "\n",
    "sunset_xs = [1] * len(sunset_df['danceability'])\n",
    "gsp_xs = [2] * len(gsp_df['danceability'])\n",
    "# This code allows me to plot the x points of the scatter plot to the positions on the box plots\n",
    "\n",
    "sunset_x_jitter = np.random.uniform(-.10, .10, len(sunset_xs))\n",
    "gsp_x_jitter = np.random.uniform(-.10, .10, len(gsp_xs))\n",
    "# This is allowing us to space out the dots on the x axis to allow easier visiability\n",
    "\n",
    "ax5.boxplot(gsp_df['danceability'], positions = [1])\n",
    "ax5.boxplot(sunset_df['danceability'], positions = [2])\n",
    "# Creating boxplots for danceability of each of the albums tracks\n",
    "\n",
    "ax5.scatter(gsp_xs + gsp_x_jitter, gsp_df['danceability'], s = 35.0)\n",
    "ax5.scatter(sunset_xs + sunset_x_jitter, sunset_df['danceability'], s =35.0)\n",
    "# Placing the scatter plot dots on the boxplots\n",
    "\n",
    "\n",
    "\n",
    "plt.show()"
   ]
  },
  {
   "cell_type": "code",
   "execution_count": 25,
   "id": "bad97e53",
   "metadata": {},
   "outputs": [],
   "source": [
    "result = stats.ttest_ind(sunset_df['danceability'],gsp_df['danceability'])"
   ]
  },
  {
   "cell_type": "code",
   "execution_count": 26,
   "id": "d9fda499",
   "metadata": {},
   "outputs": [
    {
     "data": {
      "text/plain": [
       "-0.31272077652771074"
      ]
     },
     "execution_count": 26,
     "metadata": {},
     "output_type": "execute_result"
    }
   ],
   "source": [
    "result.statistic"
   ]
  },
  {
   "cell_type": "code",
   "execution_count": 27,
   "id": "c4ba0225",
   "metadata": {},
   "outputs": [
    {
     "data": {
      "text/plain": [
       "0.7575771610265117"
      ]
     },
     "execution_count": 27,
     "metadata": {},
     "output_type": "execute_result"
    }
   ],
   "source": [
    "result.pvalue"
   ]
  },
  {
   "cell_type": "markdown",
   "id": "14429336",
   "metadata": {},
   "source": [
    "This TTest tells us that there are little to no differences between these two albums when it comes to danceability. The statistic value is close to 0, which means they're practically identical sets. The P value is much greater than.05, which means this is not a reliable data test and there is no correlation between the two."
   ]
  }
 ],
 "metadata": {
  "kernelspec": {
   "display_name": "Python 3 (ipykernel)",
   "language": "python",
   "name": "python3"
  },
  "language_info": {
   "codemirror_mode": {
    "name": "ipython",
    "version": 3
   },
   "file_extension": ".py",
   "mimetype": "text/x-python",
   "name": "python",
   "nbconvert_exporter": "python",
   "pygments_lexer": "ipython3",
   "version": "3.11.4"
  }
 },
 "nbformat": 4,
 "nbformat_minor": 5
}
