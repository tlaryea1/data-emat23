{
 "cells": [
  {
   "cell_type": "markdown",
   "id": "87a5be16",
   "metadata": {},
   "source": [
    "# Header 1"
   ]
  },
  {
   "cell_type": "markdown",
   "id": "ae97c205",
   "metadata": {},
   "source": [
    "## Header 2"
   ]
  },
  {
   "cell_type": "markdown",
   "id": "5432fc76",
   "metadata": {},
   "source": [
    "In this class, I hope to learn more about Data Science as it always have fascinated me and I want to see if this would be something I would enjoy as a future career. I am also excited to learn Python! I really enjoyed using Javascript & HtML but Python is the one that has always intimidated me so I am excited to learn all about it! With the information I learn in this class I hope to be able to use Python and Data Science in my day to day life there is so much data that I want to know and use and draw conclusions from but I don't know how yet!"
   ]
  },
  {
   "cell_type": "markdown",
   "id": "8a16a824",
   "metadata": {},
   "source": [
    "## Goals for this Class\n",
    "\n",
    "1. See if I enjoy Data Science\n",
    "2. Learn Python\n",
    "3. Pass the Class\n",
    "4. Make a cook final project related to Sports Data (In particular basketball)"
   ]
  },
  {
   "cell_type": "markdown",
   "id": "67efe71a",
   "metadata": {},
   "source": [
    "![](https://res.cloudinary.com/hevo/image/upload/f_auto,q_auto/v1686047227/hevo-learn-1/datascience-1024x511-1.png?_i=AA)"
   ]
  },
  {
   "cell_type": "code",
   "execution_count": 3,
   "id": "6c8fc919",
   "metadata": {},
   "outputs": [
    {
     "data": {
      "text/plain": [
       "28"
      ]
     },
     "execution_count": 3,
     "metadata": {},
     "output_type": "execute_result"
    }
   ],
   "source": [
    "x * 4"
   ]
  },
  {
   "cell_type": "code",
   "execution_count": 2,
   "id": "52bd53b0",
   "metadata": {},
   "outputs": [
    {
     "data": {
      "text/plain": [
       "7"
      ]
     },
     "execution_count": 2,
     "metadata": {},
     "output_type": "execute_result"
    }
   ],
   "source": [
    "x = 7\n",
    "x"
   ]
  },
  {
   "cell_type": "code",
   "execution_count": null,
   "id": "5cd93673",
   "metadata": {},
   "outputs": [],
   "source": [
    "x + 4"
   ]
  },
  {
   "cell_type": "code",
   "execution_count": null,
   "id": "d53629ff",
   "metadata": {},
   "outputs": [],
   "source": []
  }
 ],
 "metadata": {
  "kernelspec": {
   "display_name": "Python 3 (ipykernel)",
   "language": "python",
   "name": "python3"
  },
  "language_info": {
   "codemirror_mode": {
    "name": "ipython",
    "version": 3
   },
   "file_extension": ".py",
   "mimetype": "text/x-python",
   "name": "python",
   "nbconvert_exporter": "python",
   "pygments_lexer": "ipython3",
   "version": "3.11.4"
  }
 },
 "nbformat": 4,
 "nbformat_minor": 5
}
