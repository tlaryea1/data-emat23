{
 "cells": [
  {
   "cell_type": "markdown",
   "id": "58f3256d",
   "metadata": {},
   "source": [
    "# Visualizing Success: How Album Art Affects Music Popularity\n",
    "By Thomas D. Laryea IV\n",
    "\n",
    "October 15th, 2023"
   ]
  },
  {
   "cell_type": "markdown",
   "id": "7a29269d",
   "metadata": {},
   "source": [
    "A lot of factors go into making an album popular. Whether that is the artist's overall popularity itself or perhaps the time the album was released and what the current trends of that month were, All of these make an album popular, but one overlooked factor is the album art itself. The album art is what initially draws a listener into an album. My hypothesis focuses on this idea and whether or not the complexity of the album art has an effect on the overall popularity of the album.\n",
    "\n",
    "I believe that the complexity does have an effect on its overall popularity. I believe people will ultimately be turned off by an album cover that has a lot of visual stimuli that will overwhelm the average user and turn them away from the album. Out of albums, I feel that at least 60% of the most popular albums will have \"simple\" album covers.\n",
    "\n",
    "For this hypothesis album, I split the albums into two categories: simple and complex. This was a subjective analysis, with simple albums usually following the criteria of a single subject and few colors, with complex albums being the opposite, with multiple items in the frame and multiple colors. Below, I have provided examples of simple and complex albums.\n",
    "\n",
    "To access the information on the albums I used the Spotify Application Programming Interface (API for short). Within the API, there is a \"Get Albums\" API request, and within the information provided by Spotify, there is a popularity feature. Below, my work delves into this further."
   ]
  },
  {
   "cell_type": "markdown",
   "id": "56973127",
   "metadata": {},
   "source": [
    "<img src = \"https://preview.redd.it/eiterwv9fdn51.jpg?auto=webp&s=a6de83ab0203a387021631204251581b05b697be\" style=\"width:300px;height:300px;\"> \n",
    "\n",
    "<h3 style=\"text-align:center\"> A Simple Album Cover </h3>\n",
    "\n",
    "<img src = \"https://upload.wikimedia.org/wikipedia/en/0/0b/Astroworld_by_Travis_Scott.jpg\">\n",
    "\n",
    "<h3 style=\"text-align:center\"> A Complex Album Cover </h3>"
   ]
  },
  {
   "cell_type": "markdown",
   "id": "2cf701b0",
   "metadata": {},
   "source": [
    "Below are the Python packages I have imported to access the Spotify API and create this report."
   ]
  },
  {
   "cell_type": "code",
   "execution_count": 41,
   "id": "ac80e4d4",
   "metadata": {},
   "outputs": [],
   "source": [
    "import requests as rq\n",
    "import pandas as pd\n",
    "import base64\n",
    "import json\n",
    "import urllib\n",
    "import numpy as np\n",
    "from scipy import stats\n",
    "from matplotlib import pyplot as plt"
   ]
  },
  {
   "cell_type": "markdown",
   "id": "c7b8a31d",
   "metadata": {},
   "source": [
    "## Accessing the API\n",
    "\n",
    "Accessing the Spotify API requires multiple steps I first had to take my personalized Spotify IDs and read them into this Notebook from a text file I created that holds them. "
   ]
  },
  {
   "cell_type": "code",
   "execution_count": 2,
   "id": "d6404d06",
   "metadata": {},
   "outputs": [],
   "source": [
    "Client_ID = pd.read_csv('Spotify_Keys.txt')['Client_ID'].iloc[0]"
   ]
  },
  {
   "cell_type": "code",
   "execution_count": 3,
   "id": "1559639a",
   "metadata": {},
   "outputs": [],
   "source": [
    "Client_Secret = pd.read_csv('Spotify_Keys.txt')['Client_Secret'].iloc[0]"
   ]
  },
  {
   "cell_type": "code",
   "execution_count": 4,
   "id": "d817c844",
   "metadata": {},
   "outputs": [],
   "source": [
    "# Client_ID"
   ]
  },
  {
   "cell_type": "code",
   "execution_count": 5,
   "id": "50927f2d",
   "metadata": {},
   "outputs": [],
   "source": [
    "# Client_Secret"
   ]
  },
  {
   "cell_type": "markdown",
   "id": "51e19f6b",
   "metadata": {},
   "source": [
    "Below I am encoding my credentials into <em>ascii</em> that allows the Spotify servers to read my credentials and allow me to access their data."
   ]
  },
  {
   "cell_type": "code",
   "execution_count": 6,
   "id": "47a64a63",
   "metadata": {},
   "outputs": [],
   "source": [
    "clientCred = base64.b64encode(str(Client_ID + \":\"+ Client_Secret).encode(\"ascii\"))"
   ]
  },
  {
   "cell_type": "code",
   "execution_count": 7,
   "id": "73aa1065",
   "metadata": {},
   "outputs": [],
   "source": [
    "# clientCred"
   ]
  },
  {
   "cell_type": "code",
   "execution_count": 8,
   "id": "43050972",
   "metadata": {},
   "outputs": [],
   "source": [
    "headers = {\"Authorization\": \"Basic {}\".format (clientCred.decode(\"ascii\"))}"
   ]
  },
  {
   "cell_type": "code",
   "execution_count": 9,
   "id": "f5e82aed",
   "metadata": {},
   "outputs": [],
   "source": [
    "# headers"
   ]
  },
  {
   "cell_type": "markdown",
   "id": "4cddfb09",
   "metadata": {},
   "source": [
    "Below is my initial call to the Spotify Servers requesting access to use their data"
   ]
  },
  {
   "cell_type": "code",
   "execution_count": 10,
   "id": "b66e4fc2",
   "metadata": {},
   "outputs": [],
   "source": [
    "payload = {'grant_type' : 'client_credentials'}\n",
    "url = 'https://accounts.spotify.com/api/token'"
   ]
  },
  {
   "cell_type": "code",
   "execution_count": 11,
   "id": "ee1dfe85",
   "metadata": {},
   "outputs": [],
   "source": [
    "sessionKeyResponse = rq.post(url = url, data = payload, headers = headers)"
   ]
  },
  {
   "cell_type": "code",
   "execution_count": 12,
   "id": "912b4bac",
   "metadata": {},
   "outputs": [
    {
     "data": {
      "text/plain": [
       "200"
      ]
     },
     "execution_count": 12,
     "metadata": {},
     "output_type": "execute_result"
    }
   ],
   "source": [
    "sessionKeyResponse.status_code"
   ]
  },
  {
   "cell_type": "code",
   "execution_count": 13,
   "id": "4ad9eb5a",
   "metadata": {},
   "outputs": [],
   "source": [
    "# sessionKeyResponse.json()"
   ]
  },
  {
   "cell_type": "code",
   "execution_count": 14,
   "id": "e26baad6",
   "metadata": {},
   "outputs": [],
   "source": [
    "accessKey = sessionKeyResponse.json()[\"access_token\"]"
   ]
  },
  {
   "cell_type": "code",
   "execution_count": 15,
   "id": "eeb9f96d",
   "metadata": {},
   "outputs": [],
   "source": [
    "sessionHeaders = {\"Authorization\": \"Bearer {}\".format(accessKey)}"
   ]
  },
  {
   "cell_type": "code",
   "execution_count": 16,
   "id": "eada58b4",
   "metadata": {},
   "outputs": [],
   "source": [
    "# sessionHeaders"
   ]
  },
  {
   "cell_type": "markdown",
   "id": "1fccba7d",
   "metadata": {},
   "source": [
    "## Calling the API and Using Album IDs"
   ]
  },
  {
   "cell_type": "markdown",
   "id": "edef3b86",
   "metadata": {},
   "source": [
    "In order to access the data on the albums, In order to find albums I decided to find multiple lists of the top albums of all time . I had to find the album IDs and place them within a list. I made an excel sheet of the ids and the classification of the album art I then loaded it into the notebook using the read csv function of Pandas. The API only allows the calling of 20 albums at a time so I had to separate my list into two sheets and merge the data together. "
   ]
  },
  {
   "cell_type": "code",
   "execution_count": 17,
   "id": "8ac93942",
   "metadata": {},
   "outputs": [],
   "source": [
    "albumIds = pd.read_csv('Album Data3.csv')['Album ID']\n",
    "albumArt = pd.read_csv('Album Data3.csv')['Art Type']"
   ]
  },
  {
   "cell_type": "code",
   "execution_count": 18,
   "id": "6c4618a3",
   "metadata": {},
   "outputs": [],
   "source": [
    "albumIds2 = pd.read_csv('Album Data4.csv')['Album ID']\n",
    "albumArt2 = pd.read_csv('Album Data4.csv')['Art Type']"
   ]
  },
  {
   "cell_type": "code",
   "execution_count": 19,
   "id": "a3683dae",
   "metadata": {},
   "outputs": [],
   "source": [
    "#albumIds"
   ]
  },
  {
   "cell_type": "code",
   "execution_count": 20,
   "id": "aa33c8a5",
   "metadata": {},
   "outputs": [],
   "source": [
    "spotifyIds =','.join(list(albumIds))\n",
    "spotifyIds2 =','.join(list(albumIds2))\n",
    "#Placing the ids into a comma separated list to send to the api"
   ]
  },
  {
   "cell_type": "code",
   "execution_count": 21,
   "id": "1ab65991",
   "metadata": {},
   "outputs": [],
   "source": [
    "albumsUrl = \"https://api.spotify.com/v1/albums?ids={}\"\\\n",
    ".format(spotifyIds)\n",
    "#Calling the API with the IDs \n",
    "\n",
    "\n",
    "albumsUrl2 = \"https://api.spotify.com/v1/albums?ids={}\"\\\n",
    ".format(spotifyIds2)\n",
    "#Calling the API with the IDs "
   ]
  },
  {
   "cell_type": "code",
   "execution_count": 22,
   "id": "4e601e18",
   "metadata": {},
   "outputs": [],
   "source": [
    "#albumsUrl"
   ]
  },
  {
   "cell_type": "markdown",
   "id": "704fe70d",
   "metadata": {},
   "source": [
    "Below I send my request to the API and get a response with the data within a JSON file that I can parse for the data I need"
   ]
  },
  {
   "cell_type": "code",
   "execution_count": 23,
   "id": "446e858b",
   "metadata": {},
   "outputs": [],
   "source": [
    "response = rq.get(url = albumsUrl, headers = sessionHeaders)\n",
    "\n",
    "response2 = rq.get(url = albumsUrl2, headers = sessionHeaders)"
   ]
  },
  {
   "cell_type": "code",
   "execution_count": 24,
   "id": "716b1ed0",
   "metadata": {},
   "outputs": [
    {
     "data": {
      "text/plain": [
       "200"
      ]
     },
     "execution_count": 24,
     "metadata": {},
     "output_type": "execute_result"
    }
   ],
   "source": [
    "response.status_code"
   ]
  },
  {
   "cell_type": "markdown",
   "id": "ab0b4c4c",
   "metadata": {},
   "source": [
    "## Combing the Data\n",
    "\n",
    "The API provided me with a JSON dictionary containing multiple elements for my purposes I needed a few specific variables from within the data. Using list comprehension to pull out the sections I needed I grabbed the <em><b>Popularity, Album Name, Track Name, and Release Date. </em></b>As mentioned before the API only allows for 20 albums at a time so I had to duplicate everything which is why every variable has a 2 variant of it. I then put everything into a Dataframe to see what the data tells us."
   ]
  },
  {
   "cell_type": "code",
   "execution_count": 25,
   "id": "476371f6",
   "metadata": {},
   "outputs": [],
   "source": [
    "album = response.json()\n",
    "album2 = response2.json()\n",
    "# Creating variables called Album which is simply the json file I received from Spotify"
   ]
  },
  {
   "cell_type": "code",
   "execution_count": 26,
   "id": "eb6794e4",
   "metadata": {},
   "outputs": [],
   "source": [
    "popularityTot = [x[\"popularity\"] for x in album[\"albums\"]]\n",
    "popularityTot2 = [x[\"popularity\"] for x in album2[\"albums\"]]\n",
    "# Grabbing the list of popularity numbers"
   ]
  },
  {
   "cell_type": "code",
   "execution_count": 27,
   "id": "4fc855ad",
   "metadata": {},
   "outputs": [],
   "source": [
    "names = [x[\"name\"] for x in album[\"albums\"]]\n",
    "names2 = [x[\"name\"] for x in album2[\"albums\"]]\n",
    "# Grabbing the list of album titles"
   ]
  },
  {
   "cell_type": "code",
   "execution_count": 28,
   "id": "54b1d80f",
   "metadata": {},
   "outputs": [],
   "source": [
    "tracks = [x[\"total_tracks\"] for x in album[\"albums\"]]\n",
    "tracks2 = [x[\"total_tracks\"] for x in album2[\"albums\"]]\n",
    "# Grabbing the total track numbers "
   ]
  },
  {
   "cell_type": "code",
   "execution_count": 29,
   "id": "b5674958",
   "metadata": {},
   "outputs": [],
   "source": [
    "released = [x[\"release_date\"] for x in album[\"albums\"]]\n",
    "released2 = [x[\"release_date\"] for x in album2[\"albums\"]]\n",
    "# Grabbing the release date"
   ]
  },
  {
   "cell_type": "markdown",
   "id": "ce58a780",
   "metadata": {},
   "source": [
    "## Creating Dataframes \n",
    "\n",
    "Below I am placing the data I grabbed from the JSON file and placing them into separate data frames that I can later merge them into one. In addition to that, I am renaming the columns to the respective names"
   ]
  },
  {
   "cell_type": "code",
   "execution_count": 30,
   "id": "ded239ca",
   "metadata": {},
   "outputs": [],
   "source": [
    "popularity = pd.DataFrame(popularityTot)\n",
    "releaseDate = pd.DataFrame(released)\n",
    "artType = pd.DataFrame(albumArt)\n",
    "nameData = pd.DataFrame(names)\n",
    "trackData = pd.DataFrame(tracks)\n",
    "# Creating the Individual DataFrames"
   ]
  },
  {
   "cell_type": "code",
   "execution_count": 31,
   "id": "f17be2b7",
   "metadata": {},
   "outputs": [],
   "source": [
    "popularity2 = pd.DataFrame(popularityTot2)\n",
    "releaseDate2 = pd.DataFrame(released2)\n",
    "artType2 = pd.DataFrame(albumArt2)\n",
    "nameData2 = pd.DataFrame(names2)\n",
    "trackData2 = pd.DataFrame(tracks2)\n",
    "# Creating DataFrames with the second set of Data"
   ]
  },
  {
   "cell_type": "code",
   "execution_count": 32,
   "id": "5cdc973e",
   "metadata": {},
   "outputs": [],
   "source": [
    "trackData.rename(columns = {0: 'Total Tracks'}, inplace = True )\n",
    "nameData.rename(columns = {0:'Album Title'}, inplace = True)\n",
    "releaseDate.rename(columns = {0:'Release Date'}, inplace = True)\n",
    "popularity.rename(columns = {0:'Popularity'}, inplace = True)\n",
    "# Renaming the first set of columns"
   ]
  },
  {
   "cell_type": "code",
   "execution_count": 33,
   "id": "fb645ae1",
   "metadata": {},
   "outputs": [],
   "source": [
    "trackData2.rename(columns = {0: 'Total Tracks'}, inplace = True )\n",
    "nameData2.rename(columns = {0:'Album Title'}, inplace = True)\n",
    "releaseDate2.rename(columns = {0:'Release Date'}, inplace = True)\n",
    "popularity2.rename(columns = {0:'Popularity'}, inplace = True)\n",
    "# Renaming the second set of columns"
   ]
  },
  {
   "cell_type": "markdown",
   "id": "8ea6a859",
   "metadata": {},
   "source": [
    "Below I am placing all the DataFrames into one large DataFrame and sorting them by the popularity variable to see which albums are the most popular."
   ]
  },
  {
   "cell_type": "code",
   "execution_count": 34,
   "id": "ad6bb914",
   "metadata": {},
   "outputs": [],
   "source": [
    "popularityInfo= pd.concat([nameData,popularity,artType,trackData,releaseDate],axis=1, join=\"inner\")\n",
    "popularityInfo2= pd.concat([nameData2,popularity2,artType2,trackData2,releaseDate2],axis=1, join=\"inner\")\n",
    "totalPopularity=pd.concat([popularityInfo,popularityInfo2])"
   ]
  },
  {
   "cell_type": "markdown",
   "id": "dea36ee6",
   "metadata": {},
   "source": [
    "## Final DataFrame\n",
    "Below is the final table of popularity containing all 40 albums (20 Complex, 20 Simple)"
   ]
  },
  {
   "cell_type": "code",
   "execution_count": 35,
   "id": "17b8eb80",
   "metadata": {},
   "outputs": [
    {
     "data": {
      "text/html": [
       "<div>\n",
       "<style scoped>\n",
       "    .dataframe tbody tr th:only-of-type {\n",
       "        vertical-align: middle;\n",
       "    }\n",
       "\n",
       "    .dataframe tbody tr th {\n",
       "        vertical-align: top;\n",
       "    }\n",
       "\n",
       "    .dataframe thead th {\n",
       "        text-align: right;\n",
       "    }\n",
       "</style>\n",
       "<table border=\"1\" class=\"dataframe\">\n",
       "  <thead>\n",
       "    <tr style=\"text-align: right;\">\n",
       "      <th></th>\n",
       "      <th>Album Title</th>\n",
       "      <th>Popularity</th>\n",
       "      <th>Art Type</th>\n",
       "      <th>Total Tracks</th>\n",
       "      <th>Release Date</th>\n",
       "    </tr>\n",
       "  </thead>\n",
       "  <tbody>\n",
       "    <tr>\n",
       "      <th>16</th>\n",
       "      <td>GUTS</td>\n",
       "      <td>95</td>\n",
       "      <td>Simple</td>\n",
       "      <td>12</td>\n",
       "      <td>2023-09-08</td>\n",
       "    </tr>\n",
       "    <tr>\n",
       "      <th>14</th>\n",
       "      <td>SOS</td>\n",
       "      <td>90</td>\n",
       "      <td>Simple</td>\n",
       "      <td>23</td>\n",
       "      <td>2022-12-09</td>\n",
       "    </tr>\n",
       "    <tr>\n",
       "      <th>1</th>\n",
       "      <td>Red (Taylor's Version)</td>\n",
       "      <td>89</td>\n",
       "      <td>Simple</td>\n",
       "      <td>30</td>\n",
       "      <td>2021-11-12</td>\n",
       "    </tr>\n",
       "    <tr>\n",
       "      <th>6</th>\n",
       "      <td>Blonde</td>\n",
       "      <td>86</td>\n",
       "      <td>Simple</td>\n",
       "      <td>17</td>\n",
       "      <td>2016-08-20</td>\n",
       "    </tr>\n",
       "    <tr>\n",
       "      <th>14</th>\n",
       "      <td>Fearless (Taylor's Version)</td>\n",
       "      <td>86</td>\n",
       "      <td>Simple</td>\n",
       "      <td>26</td>\n",
       "      <td>2021-04-09</td>\n",
       "    </tr>\n",
       "    <tr>\n",
       "      <th>18</th>\n",
       "      <td>ASTROWORLD</td>\n",
       "      <td>85</td>\n",
       "      <td>Complex</td>\n",
       "      <td>17</td>\n",
       "      <td>2018-08-03</td>\n",
       "    </tr>\n",
       "    <tr>\n",
       "      <th>7</th>\n",
       "      <td>Scorpion</td>\n",
       "      <td>84</td>\n",
       "      <td>Simple</td>\n",
       "      <td>25</td>\n",
       "      <td>2018-06-29</td>\n",
       "    </tr>\n",
       "    <tr>\n",
       "      <th>9</th>\n",
       "      <td>Norman Fucking Rockwell!</td>\n",
       "      <td>84</td>\n",
       "      <td>Complex</td>\n",
       "      <td>14</td>\n",
       "      <td>2019-08-30</td>\n",
       "    </tr>\n",
       "    <tr>\n",
       "      <th>7</th>\n",
       "      <td>channel ORANGE</td>\n",
       "      <td>83</td>\n",
       "      <td>Simple</td>\n",
       "      <td>17</td>\n",
       "      <td>2012-07-10</td>\n",
       "    </tr>\n",
       "    <tr>\n",
       "      <th>13</th>\n",
       "      <td>Currents</td>\n",
       "      <td>83</td>\n",
       "      <td>Complex</td>\n",
       "      <td>13</td>\n",
       "      <td>2015-07-17</td>\n",
       "    </tr>\n",
       "    <tr>\n",
       "      <th>2</th>\n",
       "      <td>IGOR</td>\n",
       "      <td>82</td>\n",
       "      <td>Simple</td>\n",
       "      <td>12</td>\n",
       "      <td>2019-05-17</td>\n",
       "    </tr>\n",
       "    <tr>\n",
       "      <th>4</th>\n",
       "      <td>My Beautiful Dark Twisted Fantasy</td>\n",
       "      <td>82</td>\n",
       "      <td>Simple</td>\n",
       "      <td>13</td>\n",
       "      <td>2010-11-22</td>\n",
       "    </tr>\n",
       "    <tr>\n",
       "      <th>0</th>\n",
       "      <td>The Black Parade</td>\n",
       "      <td>80</td>\n",
       "      <td>Simple</td>\n",
       "      <td>14</td>\n",
       "      <td>2006-10-23</td>\n",
       "    </tr>\n",
       "    <tr>\n",
       "      <th>10</th>\n",
       "      <td>MONTERO</td>\n",
       "      <td>78</td>\n",
       "      <td>Complex</td>\n",
       "      <td>15</td>\n",
       "      <td>2021-09-17</td>\n",
       "    </tr>\n",
       "    <tr>\n",
       "      <th>11</th>\n",
       "      <td>Yeezus</td>\n",
       "      <td>78</td>\n",
       "      <td>Simple</td>\n",
       "      <td>10</td>\n",
       "      <td>2013-06-18</td>\n",
       "    </tr>\n",
       "    <tr>\n",
       "      <th>0</th>\n",
       "      <td>Thriller</td>\n",
       "      <td>77</td>\n",
       "      <td>Simple</td>\n",
       "      <td>9</td>\n",
       "      <td>1982-11-30</td>\n",
       "    </tr>\n",
       "    <tr>\n",
       "      <th>5</th>\n",
       "      <td>To Pimp A Butterfly</td>\n",
       "      <td>77</td>\n",
       "      <td>Complex</td>\n",
       "      <td>16</td>\n",
       "      <td>2015-03-16</td>\n",
       "    </tr>\n",
       "    <tr>\n",
       "      <th>6</th>\n",
       "      <td>DS4EVER</td>\n",
       "      <td>76</td>\n",
       "      <td>Simple</td>\n",
       "      <td>20</td>\n",
       "      <td>2022-01-13</td>\n",
       "    </tr>\n",
       "    <tr>\n",
       "      <th>9</th>\n",
       "      <td>Death of a Bachelor</td>\n",
       "      <td>76</td>\n",
       "      <td>Complex</td>\n",
       "      <td>11</td>\n",
       "      <td>2016-01-15</td>\n",
       "    </tr>\n",
       "    <tr>\n",
       "      <th>12</th>\n",
       "      <td>Wasteland, Baby!</td>\n",
       "      <td>74</td>\n",
       "      <td>Complex</td>\n",
       "      <td>14</td>\n",
       "      <td>2019-03-01</td>\n",
       "    </tr>\n",
       "    <tr>\n",
       "      <th>1</th>\n",
       "      <td>K.I.D.S. (Deluxe)</td>\n",
       "      <td>73</td>\n",
       "      <td>Simple</td>\n",
       "      <td>18</td>\n",
       "      <td>2010-08-13</td>\n",
       "    </tr>\n",
       "    <tr>\n",
       "      <th>16</th>\n",
       "      <td>Madvillainy</td>\n",
       "      <td>73</td>\n",
       "      <td>Simple</td>\n",
       "      <td>22</td>\n",
       "      <td>2004-03-24</td>\n",
       "    </tr>\n",
       "    <tr>\n",
       "      <th>3</th>\n",
       "      <td>Eternal Atake</td>\n",
       "      <td>72</td>\n",
       "      <td>Complex</td>\n",
       "      <td>18</td>\n",
       "      <td>2020-03-06</td>\n",
       "    </tr>\n",
       "    <tr>\n",
       "      <th>17</th>\n",
       "      <td>The Rise and Fall of Ziggy Stardust and the Sp...</td>\n",
       "      <td>72</td>\n",
       "      <td>Complex</td>\n",
       "      <td>11</td>\n",
       "      <td>1972-06-06</td>\n",
       "    </tr>\n",
       "    <tr>\n",
       "      <th>13</th>\n",
       "      <td>Enter The Wu-Tang (36 Chambers) [Expanded Edit...</td>\n",
       "      <td>72</td>\n",
       "      <td>Complex</td>\n",
       "      <td>15</td>\n",
       "      <td>1993-11-09</td>\n",
       "    </tr>\n",
       "    <tr>\n",
       "      <th>19</th>\n",
       "      <td>Let’s Start Here.</td>\n",
       "      <td>70</td>\n",
       "      <td>Complex</td>\n",
       "      <td>14</td>\n",
       "      <td>2023-01-27</td>\n",
       "    </tr>\n",
       "    <tr>\n",
       "      <th>15</th>\n",
       "      <td>Wish You Were Here</td>\n",
       "      <td>70</td>\n",
       "      <td>Simple</td>\n",
       "      <td>5</td>\n",
       "      <td>1975-09-12</td>\n",
       "    </tr>\n",
       "    <tr>\n",
       "      <th>5</th>\n",
       "      <td>Man On The Moon III: The Chosen</td>\n",
       "      <td>69</td>\n",
       "      <td>Complex</td>\n",
       "      <td>18</td>\n",
       "      <td>2020-12-11</td>\n",
       "    </tr>\n",
       "    <tr>\n",
       "      <th>8</th>\n",
       "      <td>Operation: Doomsday (Complete)</td>\n",
       "      <td>69</td>\n",
       "      <td>Complex</td>\n",
       "      <td>42</td>\n",
       "      <td>1999-10-19</td>\n",
       "    </tr>\n",
       "    <tr>\n",
       "      <th>3</th>\n",
       "      <td>Kid A</td>\n",
       "      <td>68</td>\n",
       "      <td>Complex</td>\n",
       "      <td>11</td>\n",
       "      <td>2000-10-02</td>\n",
       "    </tr>\n",
       "    <tr>\n",
       "      <th>11</th>\n",
       "      <td>4:44</td>\n",
       "      <td>67</td>\n",
       "      <td>Simple</td>\n",
       "      <td>10</td>\n",
       "      <td>2017-07-07</td>\n",
       "    </tr>\n",
       "    <tr>\n",
       "      <th>8</th>\n",
       "      <td>Faces</td>\n",
       "      <td>67</td>\n",
       "      <td>Complex</td>\n",
       "      <td>25</td>\n",
       "      <td>2021-10-15</td>\n",
       "    </tr>\n",
       "    <tr>\n",
       "      <th>17</th>\n",
       "      <td>Aquemini</td>\n",
       "      <td>65</td>\n",
       "      <td>Complex</td>\n",
       "      <td>16</td>\n",
       "      <td>1998-09-29</td>\n",
       "    </tr>\n",
       "    <tr>\n",
       "      <th>10</th>\n",
       "      <td>Illinois</td>\n",
       "      <td>61</td>\n",
       "      <td>Complex</td>\n",
       "      <td>22</td>\n",
       "      <td>2005-07-05</td>\n",
       "    </tr>\n",
       "    <tr>\n",
       "      <th>4</th>\n",
       "      <td>BTR</td>\n",
       "      <td>60</td>\n",
       "      <td>Simple</td>\n",
       "      <td>17</td>\n",
       "      <td>2011-04-18</td>\n",
       "    </tr>\n",
       "    <tr>\n",
       "      <th>12</th>\n",
       "      <td>In The Court Of The Crimson King (Expanded &amp; R...</td>\n",
       "      <td>56</td>\n",
       "      <td>Complex</td>\n",
       "      <td>8</td>\n",
       "      <td>1969-10-10</td>\n",
       "    </tr>\n",
       "    <tr>\n",
       "      <th>2</th>\n",
       "      <td>Obviously</td>\n",
       "      <td>53</td>\n",
       "      <td>Simple</td>\n",
       "      <td>12</td>\n",
       "      <td>2021-03-12</td>\n",
       "    </tr>\n",
       "    <tr>\n",
       "      <th>15</th>\n",
       "      <td>Blackstar</td>\n",
       "      <td>51</td>\n",
       "      <td>Simple</td>\n",
       "      <td>7</td>\n",
       "      <td>2016-01-08</td>\n",
       "    </tr>\n",
       "    <tr>\n",
       "      <th>19</th>\n",
       "      <td>Remain in Light</td>\n",
       "      <td>50</td>\n",
       "      <td>Complex</td>\n",
       "      <td>8</td>\n",
       "      <td>1980-10-08</td>\n",
       "    </tr>\n",
       "    <tr>\n",
       "      <th>18</th>\n",
       "      <td>Disintegration (2010 Remaster)</td>\n",
       "      <td>47</td>\n",
       "      <td>Complex</td>\n",
       "      <td>12</td>\n",
       "      <td>1989-05-02</td>\n",
       "    </tr>\n",
       "  </tbody>\n",
       "</table>\n",
       "</div>"
      ],
      "text/plain": [
       "                                          Album Title  Popularity Art Type  \\\n",
       "16                                               GUTS          95   Simple   \n",
       "14                                                SOS          90   Simple   \n",
       "1                              Red (Taylor's Version)          89   Simple   \n",
       "6                                              Blonde          86   Simple   \n",
       "14                        Fearless (Taylor's Version)          86   Simple   \n",
       "18                                         ASTROWORLD          85  Complex   \n",
       "7                                            Scorpion          84   Simple   \n",
       "9                            Norman Fucking Rockwell!          84  Complex   \n",
       "7                                      channel ORANGE          83   Simple   \n",
       "13                                           Currents          83  Complex   \n",
       "2                                                IGOR          82   Simple   \n",
       "4                   My Beautiful Dark Twisted Fantasy          82   Simple   \n",
       "0                                    The Black Parade          80   Simple   \n",
       "10                                            MONTERO          78  Complex   \n",
       "11                                             Yeezus          78   Simple   \n",
       "0                                            Thriller          77   Simple   \n",
       "5                                 To Pimp A Butterfly          77  Complex   \n",
       "6                                             DS4EVER          76   Simple   \n",
       "9                                 Death of a Bachelor          76  Complex   \n",
       "12                                   Wasteland, Baby!          74  Complex   \n",
       "1                                   K.I.D.S. (Deluxe)          73   Simple   \n",
       "16                                        Madvillainy          73   Simple   \n",
       "3                                       Eternal Atake          72  Complex   \n",
       "17  The Rise and Fall of Ziggy Stardust and the Sp...          72  Complex   \n",
       "13  Enter The Wu-Tang (36 Chambers) [Expanded Edit...          72  Complex   \n",
       "19                                  Let’s Start Here.          70  Complex   \n",
       "15                                 Wish You Were Here          70   Simple   \n",
       "5                     Man On The Moon III: The Chosen          69  Complex   \n",
       "8                      Operation: Doomsday (Complete)          69  Complex   \n",
       "3                                               Kid A          68  Complex   \n",
       "11                                               4:44          67   Simple   \n",
       "8                                               Faces          67  Complex   \n",
       "17                                           Aquemini          65  Complex   \n",
       "10                                           Illinois          61  Complex   \n",
       "4                                                 BTR          60   Simple   \n",
       "12  In The Court Of The Crimson King (Expanded & R...          56  Complex   \n",
       "2                                           Obviously          53   Simple   \n",
       "15                                          Blackstar          51   Simple   \n",
       "19                                    Remain in Light          50  Complex   \n",
       "18                     Disintegration (2010 Remaster)          47  Complex   \n",
       "\n",
       "    Total Tracks Release Date  \n",
       "16            12   2023-09-08  \n",
       "14            23   2022-12-09  \n",
       "1             30   2021-11-12  \n",
       "6             17   2016-08-20  \n",
       "14            26   2021-04-09  \n",
       "18            17   2018-08-03  \n",
       "7             25   2018-06-29  \n",
       "9             14   2019-08-30  \n",
       "7             17   2012-07-10  \n",
       "13            13   2015-07-17  \n",
       "2             12   2019-05-17  \n",
       "4             13   2010-11-22  \n",
       "0             14   2006-10-23  \n",
       "10            15   2021-09-17  \n",
       "11            10   2013-06-18  \n",
       "0              9   1982-11-30  \n",
       "5             16   2015-03-16  \n",
       "6             20   2022-01-13  \n",
       "9             11   2016-01-15  \n",
       "12            14   2019-03-01  \n",
       "1             18   2010-08-13  \n",
       "16            22   2004-03-24  \n",
       "3             18   2020-03-06  \n",
       "17            11   1972-06-06  \n",
       "13            15   1993-11-09  \n",
       "19            14   2023-01-27  \n",
       "15             5   1975-09-12  \n",
       "5             18   2020-12-11  \n",
       "8             42   1999-10-19  \n",
       "3             11   2000-10-02  \n",
       "11            10   2017-07-07  \n",
       "8             25   2021-10-15  \n",
       "17            16   1998-09-29  \n",
       "10            22   2005-07-05  \n",
       "4             17   2011-04-18  \n",
       "12             8   1969-10-10  \n",
       "2             12   2021-03-12  \n",
       "15             7   2016-01-08  \n",
       "19             8   1980-10-08  \n",
       "18            12   1989-05-02  "
      ]
     },
     "execution_count": 35,
     "metadata": {},
     "output_type": "execute_result"
    }
   ],
   "source": [
    "totalPopularity.sort_values(by=['Popularity'], ascending = False)\n",
    "# Sorting by popularity"
   ]
  },
  {
   "cell_type": "code",
   "execution_count": 39,
   "id": "eb86b2ce",
   "metadata": {},
   "outputs": [
    {
     "data": {
      "image/png": "[encoded data removed]",
      "text/plain": [
       "<Figure size 640x480 with 1 Axes>"
      ]
     },
     "metadata": {},
     "output_type": "display_data"
    }
   ],
   "source": [
    "simp_val = totalPopularity[totalPopularity['Art Type'] == 'Simple']['Popularity']\n",
    "comp_val = totalPopularity[totalPopularity['Art Type'] == 'Complex']['Popularity']\n",
    "\n",
    "comp_xs = [1] * len(comp_val)\n",
    "simp_xs = [2] * len(simp_val)\n",
    "\n",
    "comp_x_jitter = np.random.uniform(-.10, .10, len(comp_xs))\n",
    "simp_x_jitter = np.random.uniform(-.10, .10, len(simp_xs))\n",
    "\n",
    "fig1, ax1 = plt.subplots()\n",
    "ax1.boxplot(comp_val, positions = [1])\n",
    "ax1.boxplot(simp_val, positions = [2])\n",
    "ax1.scatter(comp_xs + comp_x_jitter, comp_val, alpha = .5, label = \"Complex\")\n",
    "ax1.scatter(simp_xs + simp_x_jitter, simp_val, alpha = .5, label = \"Simple\")\n",
    "ax1.legend()\n",
    "\n",
    "plt.show()"
   ]
  },
  {
   "cell_type": "code",
   "execution_count": 42,
   "id": "aa119730",
   "metadata": {
    "scrolled": true
   },
   "outputs": [],
   "source": [
    "result1 = stats.ttest_ind(simp_val,comp_val)"
   ]
  },
  {
   "cell_type": "code",
   "execution_count": 43,
   "id": "1494be61",
   "metadata": {},
   "outputs": [
    {
     "data": {
      "text/plain": [
       "0.053229744745321404"
      ]
     },
     "execution_count": 43,
     "metadata": {},
     "output_type": "execute_result"
    }
   ],
   "source": [
    "result1.pvalue"
   ]
  },
  {
   "cell_type": "markdown",
   "id": "0c62b048",
   "metadata": {},
   "source": [
    "## Conclusion\n",
    "\n",
    "The table shows a very clear trend showing that complex album arts tend to score lower on the popularity scale, with simple albums making up 65% of the top half of albums. I believe my theory of visual complexity overwhelms the listener and turns them away.\n",
    "\n",
    "With this data, there are some issues and limitations that arise. Obviously, the complexity of the album art is very subjective to me, and what I find simple and complex can be vastly different from what you may believe. I overall tried to follow a formula based on colors and subjects to create my list of simplicity and complexity, but that was one limiting factor. In addition to that, recency bias may lead to inflated popularity numbers. For example, the album \"Guts\" by Olivia Rodrigo was recently released, and many listeners are still listening to it, so this may result in an inflated popularity number. Compare this to an album like Thriller, which is the best-selling album of all time, but it was released in the 1980s, so the popularity will clearly be much lower and not a true reflection of the popularity. Another limitation would be the genres included. I attempted to include every genre, but some genres are simply not as popular with modern music listeners, so the data reflects a lower popularity number, but this number is in relation to all genres. If I got the popularity within the genre, we could potentially see a difference in the popularity number.\n",
    "\n",
    "Going forward to get a more complex analysis I would separate the albums by genre and create smaller dataframes based off of the popularity and adjust the numbers to get a clearer picture of whether or not album truly affects the popularity."
   ]
  }
 ],
 "metadata": {
  "kernelspec": {
   "display_name": "Python 3 (ipykernel)",
   "language": "python",
   "name": "python3"
  },
  "language_info": {
   "codemirror_mode": {
    "name": "ipython",
    "version": 3
   },
   "file_extension": ".py",
   "mimetype": "text/x-python",
   "name": "python",
   "nbconvert_exporter": "python",
   "pygments_lexer": "ipython3",
   "version": "3.11.4"
  }
 },
 "nbformat": 4,
 "nbformat_minor": 5
}
